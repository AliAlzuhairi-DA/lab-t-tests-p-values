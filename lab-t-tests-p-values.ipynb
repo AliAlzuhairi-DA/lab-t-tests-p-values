{
 "cells": [
  {
   "cell_type": "markdown",
   "id": "6bd7273c",
   "metadata": {},
   "source": [
    "We will have another simple example on two sample t test (pooled- when the variances are equal). But this time this is a one sided t-test\n",
    "In a packing plant, a machine packs cartons with jars. It is supposed that a new machine will pack faster on the average than the machine currently used. To test that hypothesis, the times it takes each machine to pack ten cartons are recorded. The results, in seconds, are shown in the tables in the file files_for_lab/machine.txt. Assume that there is sufficient evidence to conduct the t test, does the data provide sufficient evidence to show if one machine is better than the other"
   ]
  },
  {
   "cell_type": "code",
   "execution_count": null,
   "id": "3879a565",
   "metadata": {},
   "outputs": [],
   "source": [
    "# Let's start by calculating the test statistic using the provided data for the new and old machines:"
   ]
  },
  {
   "cell_type": "code",
   "execution_count": 1,
   "id": "22e9cfd6",
   "metadata": {},
   "outputs": [],
   "source": [
    "# New machine times (in seconds):\n",
    "X_new =[42.1,41,41.3,41.8,42.4,42.8,43.2,42.3,41.8,42.7]\n",
    "\n",
    "# Old machine times (in seconds):\n",
    "\n",
    "X_old=[42.7,43.6,43.8,43.3,42.5,43.5,43.1,41.7,44,44.1]"
   ]
  },
  {
   "cell_type": "markdown",
   "id": "b160ecd2",
   "metadata": {},
   "source": [
    "Let's calculate the mean, standard deviation, and sample size for each machine. Then, we'll proceed to calculate the test statistic."
   ]
  },
  {
   "cell_type": "code",
   "execution_count": null,
   "id": "e8edd4cb",
   "metadata": {},
   "outputs": [],
   "source": [
    "# Let's start by calculating the mean, standard deviation, and sample size for each machine:"
   ]
  },
  {
   "cell_type": "code",
   "execution_count": 2,
   "id": "8d1b8b3d",
   "metadata": {},
   "outputs": [
    {
     "name": "stdout",
     "output_type": "stream",
     "text": [
      "New Machine:\n",
      "Mean: 42.14\n",
      "Standard Deviation: 0.6834552736727638\n",
      "Sample Size: 10\n"
     ]
    }
   ],
   "source": [
    "import numpy as np\n",
    "\n",
    "times_new = np.array([42.1, 41, 41.3, 41.8, 42.4, 42.8, 43.2, 42.3, 41.8, 42.7])\n",
    "\n",
    "mean_new = np.mean(times_new)\n",
    "std_new = np.std(times_new, ddof=1)\n",
    "size_new = len(times_new)\n",
    "\n",
    "print(\"New Machine:\")\n",
    "print(\"Mean:\", mean_new)\n",
    "print(\"Standard Deviation:\", std_new)\n",
    "print(\"Sample Size:\", size_new)"
   ]
  },
  {
   "cell_type": "code",
   "execution_count": 3,
   "id": "115f9496",
   "metadata": {},
   "outputs": [
    {
     "name": "stdout",
     "output_type": "stream",
     "text": [
      "\n",
      "Old Machine:\n",
      "Mean: 43.230000000000004\n",
      "Standard Deviation: 0.7498888806572157\n",
      "Sample Size: 10\n"
     ]
    }
   ],
   "source": [
    "times_old = np.array([42.7, 43.6, 43.8, 43.3, 42.5, 43.5, 43.1, 41.7, 44, 44.1])\n",
    "\n",
    "mean_old = np.mean(times_old)\n",
    "std_old = np.std(times_old, ddof=1)\n",
    "size_old = len(times_old)\n",
    "\n",
    "print(\"\\nOld Machine:\")\n",
    "print(\"Mean:\", mean_old)\n",
    "print(\"Standard Deviation:\", std_old)\n",
    "print(\"Sample Size:\", size_old)"
   ]
  },
  {
   "cell_type": "markdown",
   "id": "efb490c9",
   "metadata": {},
   "source": [
    "We will use the two-sample t-test to calculate the test statistic and the p-value. If the p-value is less than the significance level (α), we will reject the null hypothesis and conclude that there is sufficient evidence to show that one machine is better than the other. Otherwise, we will fail to reject the null hypothesis."
   ]
  },
  {
   "cell_type": "code",
   "execution_count": 4,
   "id": "9d486aa0",
   "metadata": {},
   "outputs": [
    {
     "name": "stdout",
     "output_type": "stream",
     "text": [
      "Test Statistic: -3.3972307061176026\n",
      "P-value: 0.0032111425007745158\n"
     ]
    }
   ],
   "source": [
    "from scipy import stats\n",
    "\n",
    "t_statistic, p_value = stats.ttest_ind(times_new, times_old)\n",
    "\n",
    "print(\"Test Statistic:\", t_statistic)\n",
    "print(\"P-value:\", p_value)"
   ]
  },
  {
   "cell_type": "code",
   "execution_count": 6,
   "id": "269cccf5",
   "metadata": {},
   "outputs": [
    {
     "name": "stdout",
     "output_type": "stream",
     "text": [
      "Reject the null hypothesis. There is sufficient evidence to show that one machine is better than the other.\n"
     ]
    }
   ],
   "source": [
    "alpha = 0.05\n",
    "if p_value < alpha:\n",
    "    print(\"Reject the null hypothesis. There is sufficient evidence to show that one machine is better than the other.\")\n",
    "else:\n",
    "    print(\"Fail to reject the null hypothesis. There is not sufficient evidence to show that one machine is better than the other.\")"
   ]
  },
  {
   "cell_type": "markdown",
   "id": "a012e50c",
   "metadata": {},
   "source": [
    "An additional problem (not mandatory): In this case we can't assume that the population variances are equal. Hence in this case we cannot pool the variances. Independent random samples of 17 sophomores and 13 juniors attending a large university yield the following data on grade point averages. Data is provided in the file files_for_lab/student_gpa.txt. At the 5% significance level, do the data provide sufficient evidence to conclude that the mean GPAs of sophomores and juniors at the university differ?\n",
    "\n",
    "Test statistics can be calculated as: link to the image - Test statistics calculation for Unpooled Variance Case\n",
    "\n",
    "Degrees of freedom is (n1-1)+(n2-1)."
   ]
  },
  {
   "cell_type": "code",
   "execution_count": 7,
   "id": "dec01c71",
   "metadata": {},
   "outputs": [
    {
     "name": "stdout",
     "output_type": "stream",
     "text": [
      "Test Statistic: -0.9231495630900278\n",
      "P-value: 0.3642180675348571\n"
     ]
    }
   ],
   "source": [
    "from scipy.stats import ttest_ind\n",
    "\n",
    "sophomores_gpa = [3.04, 1.71, 3.3, 2.88, 2.11, 2.6, 2.92, 3.6, 2.28, 2.82, 3.03, 3.13, 2.86, 3.49, 3.11, 2.13, 3.27]\n",
    "juniors_gpa = [2.56, 2.77, 2.7, 3, 2.98, 3.47, 3.26, 3.2, 3.19, 2.65, 3, 3.39, 2.58]\n",
    "\n",
    "t_stat, p_value = ttest_ind(sophomores_gpa, juniors_gpa, equal_var=False)\n",
    "print(\"Test Statistic:\", t_stat)\n",
    "print(\"P-value:\", p_value)"
   ]
  },
  {
   "cell_type": "code",
   "execution_count": 8,
   "id": "802858a1",
   "metadata": {},
   "outputs": [
    {
     "name": "stdout",
     "output_type": "stream",
     "text": [
      "fail to reject the null hypothesis\n"
     ]
    }
   ],
   "source": [
    "alpha = 0.05\n",
    "if p_value < alpha:\n",
    "    print(\"Reject the null hypothesis\")\n",
    "else:\n",
    "    print(\"fail to reject the null hypothesis\")"
   ]
  },
  {
   "cell_type": "markdown",
   "id": "de79e10b",
   "metadata": {},
   "source": [
    "With a significance level of 0.05, since the p-value (0.3642) is greater than 0.05, we fail to reject the null hypothesis. This means that there is not enough evidence to conclude that the mean GPAs of sophomores and juniors at the university differ."
   ]
  }
 ],
 "metadata": {
  "kernelspec": {
   "display_name": "Python 3 (ipykernel)",
   "language": "python",
   "name": "python3"
  },
  "language_info": {
   "codemirror_mode": {
    "name": "ipython",
    "version": 3
   },
   "file_extension": ".py",
   "mimetype": "text/x-python",
   "name": "python",
   "nbconvert_exporter": "python",
   "pygments_lexer": "ipython3",
   "version": "3.11.5"
  }
 },
 "nbformat": 4,
 "nbformat_minor": 5
}
